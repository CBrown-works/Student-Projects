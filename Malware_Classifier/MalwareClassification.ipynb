{
 "cells": [
  {
   "cell_type": "markdown",
   "id": "87cf6aaa-ca93-43d9-b33b-8a3ac809ea92",
   "metadata": {},
   "source": [
    "# Malware Classification:Logistic Regression\n",
    "\n",
    "## this supervised machine learning model takes a csv consisting of 100,000 rows of data with 35 feature columns describing various apects of computer files that are labeled as either malware or benign and uses it to differentiate between safe computer files and dangerous computer files.\n",
    "\n"
   ]
  },
  {
   "cell_type": "code",
   "execution_count": 30,
   "id": "836f1482-f80c-4692-a440-f7ec1d8e6f7e",
   "metadata": {},
   "outputs": [],
   "source": [
    "import pandas as pd\n",
    "import numpy as np\n",
    "import os\n",
    "from sklearn.model_selection import train_test_split\n",
    "import matplotlib.pyplot as plt\n",
    "import seaborn as sns\n",
    "from sklearn.preprocessing import StandardScaler\n",
    "from sklearn.model_selection import cross_val_score\n",
    "from sklearn.model_selection import StratifiedKFold\n",
    "from sklearn.linear_model import LogisticRegression\n",
    "import itertools\n",
    "from sklearn.tree import DecisionTreeRegressor\n",
    "from sklearn import metrics\n",
    "from sklearn.linear_model import LinearRegression\n",
    "from sklearn.model_selection import GridSearchCV\n",
    "import timeit\n",
    "import warnings\n",
    "warnings.simplefilter(action='ignore', category=FutureWarning)"
   ]
  },
  {
   "cell_type": "code",
   "execution_count": 31,
   "id": "c1ac14d4-a987-47ba-a56f-1bd4c2008688",
   "metadata": {},
   "outputs": [],
   "source": [
    "def PreProcessing(data):\n",
    "\n",
    "    data1 = data.dropna(how=\"any\", axis=0)\n",
    "    data1[\"classification\"].value_counts()\n",
    "    data1['classification'] = data1.classification.map({'benign': 0, 'malware': 1})\n",
    "    return data1\n"
   ]
  },
  {
   "cell_type": "code",
   "execution_count": 32,
   "id": "6138bd4a-3d58-47fe-8412-349127fbfbd6",
   "metadata": {},
   "outputs": [],
   "source": [
    "def Visualize(data):\n",
    "    sns.countplot(data[\"classification\"])\n",
    "    plt.show()\n",
    "\n",
    "    data[\"classification\"].value_counts().plot(kind=\"pie\", autopct=\"%1.1f%%\")\n",
    "    plt.axis(\"equal\")\n",
    "    plt.show()\n",
    "\n"
   ]
  },
  {
   "cell_type": "code",
   "execution_count": 33,
   "id": "1c7f4b07-128d-425d-9181-43844d9bee11",
   "metadata": {},
   "outputs": [],
   "source": [
    "\n",
    "def construct_quality_report(abt):\n",
    "\n",
    "    excluded_columns = ['classification', 'hash', ]\n",
    "\n",
    "    summary_feature_names = ['Feature Name', 'Cardinality', 'Non-null Count', 'Null Count', 'Min', '25th', 'Mean',\n",
    "                             '50th', '75th', 'Max', 'Std. Dev', 'Outlier Count Low', 'Outlier Count High']\n",
    "    QRDF = pd.DataFrame(columns=summary_feature_names)\n",
    "    NewData = dict.fromkeys(summary_feature_names)\n",
    "\n",
    "    for x in abt.columns:\n",
    "\n",
    "        if x in excluded_columns:\n",
    "            continue\n",
    "        NewData['Feature Name'] = x\n",
    "        NewData['Cardinality'] = abt[x].nunique()\n",
    "        NewData['Non-null Count'] = abt[x].count()\n",
    "        NewData['Null Count'] = abt[x].isna().sum()\n",
    "        NewData['Min'] = abt[x].to_numpy().min()\n",
    "        NewData['25th'] = np.percentile(abt[x].to_numpy(), 25)\n",
    "        NewData['Mean'] = np.mean(abt[x].to_numpy())\n",
    "        NewData['50th'] = np.percentile(abt[x].to_numpy(), 50)\n",
    "        NewData['75th'] = np.percentile(abt[x].to_numpy(), 75)\n",
    "        NewData['Max'] = abt[x].to_numpy().max()\n",
    "        NewData['Std. Dev'] = np.std(abt[x].to_numpy())\n",
    "        q1 = abt[x].quantile(0.25)\n",
    "        q3 = abt[x].quantile(0.75)\n",
    "        iqr = q3 - q1\n",
    "        NewData['Outlier Count Low'] = abt[x].lt(q1 - (1.5 * iqr)).sum()\n",
    "        NewData['Outlier Count High'] = abt[x].gt(q3 + (1.5 * iqr)).sum()\n",
    "        values = NewData.values()\n",
    "        QRDF.loc[len(QRDF)] = list(values)\n",
    "\n",
    "\n",
    "    return QRDF\n",
    "\n",
    "    pass\n",
    "\n"
   ]
  },
  {
   "cell_type": "code",
   "execution_count": 34,
   "id": "3fdb62d2-95a0-48f8-ac8f-e34d7e0171e7",
   "metadata": {},
   "outputs": [],
   "source": [
    "\n",
    "def drop_low_card_data(summary_table,abt) :\n",
    "\n",
    "    Name = summary_table['Feature Name']\n",
    "    Cardin = summary_table['Cardinality']\n",
    "\n",
    "\n",
    "    count = 0\n",
    "\n",
    "    for x, y in zip(Name, Cardin):\n",
    "\n",
    "        if y < 3:\n",
    "            # print(y)\n",
    "            abt.drop(x, axis=1, inplace=True)\n",
    "            continue\n",
    "        count = count + 1\n",
    "\n",
    "    summary_table.drop(summary_table[summary_table['Cardinality'] < 3].index, inplace=True)\n",
    "    return summary_table, abt\n",
    "\n",
    "\n",
    "\n",
    "    pass\n",
    "\n"
   ]
  },
  {
   "cell_type": "code",
   "execution_count": 35,
   "id": "7aac05e6-55fd-4dda-8ca9-01b47af43bbf",
   "metadata": {},
   "outputs": [],
   "source": [
    "\n",
    "def LogisticRegressionModel(data):\n",
    "    benign1 = data.loc[data['classification'] == 'benign']\n",
    "    benign1[\"classification\"].head()\n",
    "    malware1 = data.loc[data['classification'] == 'malware']\n",
    "    malware1[\"classification\"].head()\n",
    "    corr = data.corr()\n",
    "    corr.nlargest(35, 'classification')[\"classification\"]\n",
    "    x = data.drop([\"hash\", \"classification\"],axis=1)\n",
    "    y = data[\"classification\"]\n",
    "\n",
    "    x_train, x_test, y_train, y_test = train_test_split(x, y, test_size=0.7, random_state=1)\n",
    "\n",
    "\n",
    "\n",
    "\n",
    "\n",
    "\n",
    "\n",
    "\n",
    "\n",
    "    scaler = StandardScaler()\n",
    "\n",
    "\n",
    "    x_train = scaler.fit_transform(x_train)\n",
    "    x_test = scaler.transform(x_test)\n",
    "\n",
    "\n",
    "\n",
    "\n",
    "    LGR_Classifier = LogisticRegression(n_jobs=-1, random_state=0,max_iter=200 )\n",
    "    LGR_Classifier.fit(x_train, y_train)\n",
    "\n",
    "\n",
    "\n",
    "\n",
    "\n",
    "    models = []\n",
    "\n",
    "    models.append(('LogisticRegression', LGR_Classifier))\n",
    "\n",
    "\n",
    "\n",
    "    for i, v in models:\n",
    "        start = timeit.default_timer()\n",
    "        scores = cross_val_score(v, x_test, y_test, cv=10)\n",
    "        accuracy = metrics.accuracy_score(y_test, v.predict(x_test))\n",
    "        confusion_matrix = metrics.confusion_matrix(y_test, v.predict(x_test))\n",
    "        classification = metrics.classification_report(y_test, v.predict(x_test))\n",
    "          # used for timing the code\n",
    "        print()\n",
    "        print('============================== {} Model Evaluation =============================='.format(i))\n",
    "        print()\n",
    "        print(\"Cross Validation Mean Score:\" \"\\n\", scores.mean())\n",
    "        print()\n",
    "        print(\"Model Accuracy:\" \"\\n\", accuracy)\n",
    "        print()\n",
    "        print(\"Confusion matrix:\" \"\\n\",pd.DataFrame(data=confusion_matrix, columns=['Predicted to be Benign', 'Predicted to be Malware'],\n",
    "                           index=['Actually Benign', 'Actually Malware']) )\n",
    "\n",
    "        print()\n",
    "        print(\"Classification report:\" \"\\n\", classification)\n",
    "        print()\n",
    "\n",
    "\n",
    "\n",
    "        stop = timeit.default_timer()\n",
    "\n",
    "\n",
    "        print('Run Time in seconds: ', (stop - start))\n",
    "        print('Run Time in mintues: ', (stop - start) / 60)\n",
    "\n"
   ]
  },
  {
   "cell_type": "code",
   "execution_count": 36,
   "id": "44f3549e-3390-4e7a-b3a0-d5432b68c18f",
   "metadata": {},
   "outputs": [],
   "source": [
    "\n",
    "data_dir = '/Users/carltonbrown/Desktop/Malware Classification Data/proj data/'\n",
    "data_file = \"Malware dataset.csv\""
   ]
  },
  {
   "cell_type": "code",
   "execution_count": 37,
   "id": "bfc44106-ed86-4c87-b2f3-9c42c113dd9a",
   "metadata": {},
   "outputs": [],
   "source": [
    "data= pd.read_csv(os.path.join(data_dir, data_file))"
   ]
  },
  {
   "cell_type": "code",
   "execution_count": 38,
   "id": "6b6d0ebf-03b3-4e0e-89e6-02972ba56ef4",
   "metadata": {},
   "outputs": [],
   "source": [
    "\n",
    "abt =PreProcessing(data)\n",
    "summary_table = construct_quality_report(abt)\n",
    "drop_low_card_data(summary_table, abt)\n",
    "summary_table = drop_low_card_data(summary_table, abt)\n",
    "summary_table= summary_table[0]\n",
    "abt =drop_low_card_data(summary_table, abt)\n",
    "abt =abt[1]\n",
    "pd.set_option('display.max_columns', None)\n",
    "data = abt"
   ]
  },
  {
   "cell_type": "code",
   "execution_count": 39,
   "id": "2abc3d9b-ccc0-479e-9b60-ac1b48024624",
   "metadata": {},
   "outputs": [
    {
     "data": {
      "image/png": "[encoded data removed]",
      "text/plain": [
       "<Figure size 432x288 with 1 Axes>"
      ]
     },
     "metadata": {
      "needs_background": "light"
     },
     "output_type": "display_data"
    },
    {
     "data": {
      "image/png": "[encoded data removed]",
      "text/plain": [
       "<Figure size 432x288 with 1 Axes>"
      ]
     },
     "metadata": {},
     "output_type": "display_data"
    }
   ],
   "source": [
    "\n",
    "Visualize(data)\n"
   ]
  },
  {
   "cell_type": "code",
   "execution_count": 40,
   "id": "62210386-b4b2-49ce-aaa0-a4619119b296",
   "metadata": {},
   "outputs": [
    {
     "name": "stdout",
     "output_type": "stream",
     "text": [
      "\n",
      "============================== LogisticRegression Model Evaluation ==============================\n",
      "\n",
      "Cross Validation Mean Score:\n",
      " 0.9398142857142858\n",
      "\n",
      "Model Accuracy:\n",
      " 0.9422571428571429\n",
      "\n",
      "Confusion matrix:\n",
      "                   Predicted to be Benign  Predicted to be Malware\n",
      "Actually Benign                    32569                     2353\n",
      "Actually Malware                    1689                    33389\n",
      "\n",
      "Classification report:\n",
      "               precision    recall  f1-score   support\n",
      "\n",
      "           0       0.95      0.93      0.94     34922\n",
      "           1       0.93      0.95      0.94     35078\n",
      "\n",
      "    accuracy                           0.94     70000\n",
      "   macro avg       0.94      0.94      0.94     70000\n",
      "weighted avg       0.94      0.94      0.94     70000\n",
      "\n",
      "\n",
      "Run Time in seconds:  25.1462385599998\n",
      "Run Time in mintues:  0.4191039759999967\n"
     ]
    }
   ],
   "source": [
    "LogisticRegressionModel(data)\n",
    "\n"
   ]
  }
 ],
 "metadata": {
  "kernelspec": {
   "display_name": "Python 3",
   "language": "python",
   "name": "python3"
  },
  "language_info": {
   "codemirror_mode": {
    "name": "ipython",
    "version": 3
   },
   "file_extension": ".py",
   "mimetype": "text/x-python",
   "name": "python",
   "nbconvert_exporter": "python",
   "pygments_lexer": "ipython3",
   "version": "3.8.8"
  }
 },
 "nbformat": 4,
 "nbformat_minor": 5
}
